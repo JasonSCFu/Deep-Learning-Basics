{
  "nbformat": 4,
  "nbformat_minor": 0,
  "metadata": {
    "colab": {
      "name": "Tensorflow and Keras basics.ipynb",
      "provenance": [],
      "include_colab_link": true
    },
    "kernelspec": {
      "name": "python3",
      "display_name": "Python 3"
    },
    "language_info": {
      "name": "python"
    }
  },
  "cells": [
    {
      "cell_type": "markdown",
      "metadata": {
        "id": "view-in-github",
        "colab_type": "text"
      },
      "source": [
        "<a href=\"https://colab.research.google.com/github/JasonSCFu/NN-CNN-RNN-basics/blob/main/Tensorflow_and_Keras_basics.ipynb\" target=\"_parent\"><img src=\"https://colab.research.google.com/assets/colab-badge.svg\" alt=\"Open In Colab\"/></a>"
      ]
    },
    {
      "cell_type": "markdown",
      "source": [
        "## Tensor basics. What is tensor?"
      ],
      "metadata": {
        "id": "xOVPojo6rCJw"
      }
    },
    {
      "cell_type": "code",
      "source": [
        "# Tensors are similar to numpy ndarrays\n",
        "import tensorflow as tf\n",
        "\n",
        "a = tf.zeros((2,2))\n",
        "b = tf.ones((2,2))\n",
        "\n",
        "print(a,b)"
      ],
      "metadata": {
        "colab": {
          "base_uri": "https://localhost:8080/"
        },
        "id": "87-zJhc8eXaE",
        "outputId": "340bcead-b744-4c62-852c-8e2468aa60c4"
      },
      "execution_count": 5,
      "outputs": [
        {
          "output_type": "stream",
          "name": "stdout",
          "text": [
            "tf.Tensor(\n",
            "[[0. 0.]\n",
            " [0. 0.]], shape=(2, 2), dtype=float32) tf.Tensor(\n",
            "[[1. 1.]\n",
            " [1. 1.]], shape=(2, 2), dtype=float32)\n"
          ]
        }
      ]
    },
    {
      "cell_type": "code",
      "source": [
        "a.get_shape()"
      ],
      "metadata": {
        "colab": {
          "base_uri": "https://localhost:8080/"
        },
        "id": "oeT1g4GQg0hr",
        "outputId": "5d6bf419-e9a8-4e8d-b030-30e7460bb5a8"
      },
      "execution_count": 12,
      "outputs": [
        {
          "output_type": "execute_result",
          "data": {
            "text/plain": [
              "TensorShape([2, 2])"
            ]
          },
          "metadata": {},
          "execution_count": 12
        }
      ]
    },
    {
      "cell_type": "code",
      "source": [
        "tf.reshape(a,(1,4))"
      ],
      "metadata": {
        "colab": {
          "base_uri": "https://localhost:8080/"
        },
        "id": "po4MhgZWg4-B",
        "outputId": "b78fc652-15b7-4d96-e030-cda4ce0dee50"
      },
      "execution_count": 13,
      "outputs": [
        {
          "output_type": "execute_result",
          "data": {
            "text/plain": [
              "<tf.Tensor: shape=(1, 4), dtype=float32, numpy=array([[0., 0., 0., 0.]], dtype=float32)>"
            ]
          },
          "metadata": {},
          "execution_count": 13
        }
      ]
    },
    {
      "cell_type": "code",
      "source": [
        "b*5 + 1"
      ],
      "metadata": {
        "colab": {
          "base_uri": "https://localhost:8080/"
        },
        "id": "I7CF8HP3hA2Q",
        "outputId": "9337dbcf-b436-46bd-cefc-cfa4ecceced2"
      },
      "execution_count": 14,
      "outputs": [
        {
          "output_type": "execute_result",
          "data": {
            "text/plain": [
              "<tf.Tensor: shape=(2, 2), dtype=float32, numpy=\n",
              "array([[6., 6.],\n",
              "       [6., 6.]], dtype=float32)>"
            ]
          },
          "metadata": {},
          "execution_count": 14
        }
      ]
    },
    {
      "cell_type": "code",
      "source": [
        "tf.matmul(a,b)"
      ],
      "metadata": {
        "colab": {
          "base_uri": "https://localhost:8080/"
        },
        "id": "8sKkQhkUhHSM",
        "outputId": "b2fa91a3-2c34-4a9f-e026-6cdd9b40279a"
      },
      "execution_count": 15,
      "outputs": [
        {
          "output_type": "execute_result",
          "data": {
            "text/plain": [
              "<tf.Tensor: shape=(2, 2), dtype=float32, numpy=\n",
              "array([[0., 0.],\n",
              "       [0., 0.]], dtype=float32)>"
            ]
          },
          "metadata": {},
          "execution_count": 15
        }
      ]
    },
    {
      "cell_type": "code",
      "source": [
        "print(a[0,0], a[:,0], a[0,:])"
      ],
      "metadata": {
        "colab": {
          "base_uri": "https://localhost:8080/"
        },
        "id": "QdjJuTkuhP9H",
        "outputId": "79fcb42a-03d2-4231-9f79-c912f83f7e18"
      },
      "execution_count": 16,
      "outputs": [
        {
          "output_type": "stream",
          "name": "stdout",
          "text": [
            "tf.Tensor(0.0, shape=(), dtype=float32) tf.Tensor([0. 0.], shape=(2,), dtype=float32) tf.Tensor([0. 0.], shape=(2,), dtype=float32)\n"
          ]
        }
      ]
    },
    {
      "cell_type": "markdown",
      "source": [
        "#"
      ],
      "metadata": {
        "id": "eDiUeaDRFpAl"
      }
    },
    {
      "cell_type": "code",
      "execution_count": null,
      "metadata": {
        "colab": {
          "base_uri": "https://localhost:8080/"
        },
        "id": "zVG9nOcMFBhO",
        "outputId": "68a4cca1-8d8b-43ff-8f12-dcabbb534bc0"
      },
      "outputs": [
        {
          "output_type": "stream",
          "name": "stdout",
          "text": [
            "tf.Tensor([[12.]], shape=(1, 1), dtype=float32)\n",
            "12.0\n"
          ]
        }
      ],
      "source": [
        "# Multiply a row and column matrix,multiply two TensorFlow constant tensors.\n",
        "\n",
        "import tensorflow as tf\n",
        "\n",
        "# Create a Constant op that produces a 1x2 matrix.  The op is\n",
        "# added as a node to the default graph.\n",
        "#\n",
        "# The value returned by the constructor represents the output\n",
        "# of the Constant op.\n",
        "matrix1 = tf.constant([[3., 3.]])\n",
        "\n",
        "# Create another Constant that produces a 2x1 matrix.\n",
        "matrix2 = tf.constant([[2.],[2.]])\n",
        "\n",
        "# Create a Matmul op that takes 'matrix1' and 'matrix2' as inputs.\n",
        "# The returned value, 'product', represents the result of the matrix\n",
        "# multiplication.\n",
        "product = tf.matmul(matrix1, matrix2)\n",
        "\n",
        "print(product)\n",
        "print(float(product))"
      ]
    },
    {
      "cell_type": "code",
      "source": [
        "# subtraction\n",
        "import tensorflow as tf\n",
        "\n",
        "x = tf.Variable([1.0, 2.0])\n",
        "a = tf.constant([3.0, 3.0])\n",
        "\n",
        "# Add an op to subtract 'a' from 'x'.  Run it and print the result\n",
        "sub = tf.subtract(x, a)\n",
        "print(sub)\n",
        "print(sub.numpy())\n",
        "# ==> [-2. -1.]"
      ],
      "metadata": {
        "colab": {
          "base_uri": "https://localhost:8080/"
        },
        "id": "nhk6bxGIFCky",
        "outputId": "e5fdb89e-e469-4c84-83ae-489447094bc5"
      },
      "execution_count": null,
      "outputs": [
        {
          "output_type": "stream",
          "name": "stdout",
          "text": [
            "tf.Tensor([-2. -1.], shape=(2,), dtype=float32)\n",
            "[-2. -1.]\n"
          ]
        }
      ]
    },
    {
      "cell_type": "code",
      "source": [
        "# Change variable's values\n",
        "x.assign([4.0, 6.0])"
      ],
      "metadata": {
        "colab": {
          "base_uri": "https://localhost:8080/"
        },
        "id": "PMHhYjhVGNkf",
        "outputId": "29fa8009-f0bf-4a39-d16b-c87d26d55f94"
      },
      "execution_count": null,
      "outputs": [
        {
          "output_type": "execute_result",
          "data": {
            "text/plain": [
              "<tf.Variable 'UnreadVariable' shape=(2,) dtype=float32, numpy=array([4., 6.], dtype=float32)>"
            ]
          },
          "metadata": {},
          "execution_count": 3
        }
      ]
    },
    {
      "cell_type": "code",
      "source": [
        "# Subtraction from new value\n",
        "sub = tf.subtract(x, a)\n",
        "print(sub)\n",
        "print(sub.numpy())"
      ],
      "metadata": {
        "colab": {
          "base_uri": "https://localhost:8080/"
        },
        "id": "ml6S9dUtGh1A",
        "outputId": "c5c86a28-3d55-4a48-e5cb-50d04d6ee9e7"
      },
      "execution_count": null,
      "outputs": [
        {
          "output_type": "stream",
          "name": "stdout",
          "text": [
            "tf.Tensor([1. 3.], shape=(2,), dtype=float32)\n",
            "[1. 3.]\n"
          ]
        }
      ]
    },
    {
      "cell_type": "code",
      "source": [
        "# Create a session, define a computation graph, feed data in, get result out\n",
        "# Encapsulates environment to run graph, a graph encapsulates the computation to perform\n",
        "# Graph is made of placeholder(aka graph input), constant, operations\n",
        "\n",
        "import tensorflow.compat.v1 as tf\n",
        "tf.disable_v2_behavior()"
      ],
      "metadata": {
        "colab": {
          "base_uri": "https://localhost:8080/"
        },
        "id": "RTgIjo6EjSQ2",
        "outputId": "51247d90-e12c-4a95-e191-bdccf2ee4e5f"
      },
      "execution_count": 25,
      "outputs": [
        {
          "output_type": "stream",
          "name": "stdout",
          "text": [
            "WARNING:tensorflow:From /usr/local/lib/python3.7/dist-packages/tensorflow/python/compat/v2_compat.py:107: disable_resource_variables (from tensorflow.python.ops.variable_scope) is deprecated and will be removed in a future version.\n",
            "Instructions for updating:\n",
            "non-resource variables are not supported in the long term\n"
          ]
        }
      ]
    },
    {
      "cell_type": "code",
      "source": [
        "session = tf.Session()   # Encapsulates environment to run graph\n",
        "a = tf.placeholder(tf.float32)\n",
        "b = tf.placeholder(tf.float32)\n",
        "k = tf.constant(1.0)\n",
        "c = tf.add(a, b)\n",
        "d = tf.subtract(b, k)\n",
        "e = tf.multiply(c, d)"
      ],
      "metadata": {
        "id": "lPKpYeTYmQ-G"
      },
      "execution_count": 29,
      "outputs": []
    },
    {
      "cell_type": "code",
      "source": [
        "# run the graph: Select nodes to evaluate, Specify values for placeholders\n",
        "session.run(e, feed_dict={a:2.0, b:0.5})"
      ],
      "metadata": {
        "colab": {
          "base_uri": "https://localhost:8080/"
        },
        "id": "inHkw_IvqSEn",
        "outputId": "4b160e14-34a5-449b-a9a0-eaa3403b8058"
      },
      "execution_count": 32,
      "outputs": [
        {
          "output_type": "execute_result",
          "data": {
            "text/plain": [
              "-1.25"
            ]
          },
          "metadata": {},
          "execution_count": 32
        }
      ]
    },
    {
      "cell_type": "code",
      "source": [
        "session.run(c, feed_dict={a:2.0, b:0.5})"
      ],
      "metadata": {
        "colab": {
          "base_uri": "https://localhost:8080/"
        },
        "id": "_kMv65KpqmNX",
        "outputId": "11a62901-1e56-4161-a705-aab004e2e678"
      },
      "execution_count": 33,
      "outputs": [
        {
          "output_type": "execute_result",
          "data": {
            "text/plain": [
              "2.5"
            ]
          },
          "metadata": {},
          "execution_count": 33
        }
      ]
    },
    {
      "cell_type": "code",
      "source": [
        "session.run([e,c], feed_dict={a:2.0, b:0.5})"
      ],
      "metadata": {
        "colab": {
          "base_uri": "https://localhost:8080/"
        },
        "id": "jFLCpRXzqnbU",
        "outputId": "f35599e5-bf4e-439d-f2d7-5fb74e5bfce4"
      },
      "execution_count": 34,
      "outputs": [
        {
          "output_type": "execute_result",
          "data": {
            "text/plain": [
              "[-1.25, 2.5]"
            ]
          },
          "metadata": {},
          "execution_count": 34
        }
      ]
    },
    {
      "cell_type": "markdown",
      "source": [
        "## build a neural network graph"
      ],
      "metadata": {
        "id": "QawFubRfrO2f"
      }
    },
    {
      "cell_type": "code",
      "source": [
        "# tf.Variable: Initialization\n",
        "b1 = tf.Variable(tf.zeros((2,2)), name=\"bias\")\n",
        "w1 = tf.Variable(tf.random_normal((2,2)), name=\"w1\")\n",
        "\n",
        "n_input_nodes = 2\n",
        "n_output_nodes = 1\n",
        "x = tf.placeholder(tf.float32, (None, 2))\n",
        "y = tf.placeholder(tf.float32, (None, 1))\n",
        "W = tf.Variable(tf.random_normal((n_input_nodes,\n",
        "n_output_nodes)))\n",
        "b = tf.Variable(tf.zeros(n_output_nodes))\n",
        "z = tf.matmul(x, W) + b\n",
        "out = tf.sigmoid(z)\n",
        "\n",
        "\n",
        "# Add loss function\n",
        "loss = tf.reduce_mean(\n",
        "tf.nn.sigmoid_cross_entropy_with_logits(logits=z, labels=y))\n",
        "\n",
        "# Add SGD optimizer\n",
        "learning_rate = 0.02\n",
        "loss = tf.reduce_mean(tf.nn.sigmoid_cross_entropy_with_logits(logits=output, labels=y))\n",
        "optimizer = tf.train.GradientDescentOptimizer(learning_rate).minimize(loss)\n",
        "sess.run(optimizer, feed_dict={x: inputs, y:labels})\n"
      ],
      "metadata": {
        "id": "-KFcKIbCrVtH"
      },
      "execution_count": 43,
      "outputs": []
    },
    {
      "cell_type": "markdown",
      "source": [
        "## Simple TensorFlow Classification: Iris\n",
        "#### The example will use TensorFlow through Keras, rather than direct TensorFlow"
      ],
      "metadata": {
        "id": "AGBWa1vaEw0d"
      }
    },
    {
      "cell_type": "code",
      "source": [
        "import pandas as pd\n",
        "import io\n",
        "import requests\n",
        "import numpy as np\n",
        "from sklearn import metrics\n",
        "from tensorflow.keras.models import Sequential\n",
        "from tensorflow.keras.layers import Dense, Activation\n",
        "from tensorflow.keras.callbacks import EarlyStopping\n",
        "\n",
        "df = pd.read_csv(\n",
        "    \"https://data.heatonresearch.com/data/t81-558/iris.csv\", \n",
        "    na_values=['NA', '?'])\n",
        "\n",
        "# Convert to numpy - Classification\n",
        "x = df[['sepal_l', 'sepal_w', 'petal_l', 'petal_w']].values\n",
        "dummies = pd.get_dummies(df['species']) # Classification\n",
        "species = dummies.columns\n",
        "y = dummies.values\n",
        "\n",
        "\n",
        "# Build neural network\n",
        "model = Sequential()\n",
        "model.add(Dense(50, input_dim=x.shape[1], activation='relu')) # Hidden 1\n",
        "model.add(Dense(25, activation='relu')) # Hidden 2\n",
        "model.add(Dense(y.shape[1],activation='softmax')) # Output\n",
        "\n",
        "model.compile(loss='categorical_crossentropy', optimizer='adam')\n",
        "model.fit(x,y,verbose=2,epochs=100)"
      ],
      "metadata": {
        "colab": {
          "base_uri": "https://localhost:8080/"
        },
        "id": "U7oO541hGvWz",
        "outputId": "8b6e97ac-b48f-4e40-f35c-27689a143067"
      },
      "execution_count": null,
      "outputs": [
        {
          "output_type": "stream",
          "name": "stdout",
          "text": [
            "Epoch 1/100\n",
            "5/5 - 1s - loss: 1.4646 - 672ms/epoch - 134ms/step\n",
            "Epoch 2/100\n",
            "5/5 - 0s - loss: 1.2748 - 17ms/epoch - 3ms/step\n",
            "Epoch 3/100\n",
            "5/5 - 0s - loss: 1.1494 - 16ms/epoch - 3ms/step\n",
            "Epoch 4/100\n",
            "5/5 - 0s - loss: 1.0716 - 15ms/epoch - 3ms/step\n",
            "Epoch 5/100\n",
            "5/5 - 0s - loss: 1.0163 - 13ms/epoch - 3ms/step\n",
            "Epoch 6/100\n",
            "5/5 - 0s - loss: 0.9697 - 14ms/epoch - 3ms/step\n",
            "Epoch 7/100\n",
            "5/5 - 0s - loss: 0.9269 - 14ms/epoch - 3ms/step\n",
            "Epoch 8/100\n",
            "5/5 - 0s - loss: 0.8830 - 15ms/epoch - 3ms/step\n",
            "Epoch 9/100\n",
            "5/5 - 0s - loss: 0.8390 - 26ms/epoch - 5ms/step\n",
            "Epoch 10/100\n",
            "5/5 - 0s - loss: 0.7943 - 13ms/epoch - 3ms/step\n",
            "Epoch 11/100\n",
            "5/5 - 0s - loss: 0.7525 - 14ms/epoch - 3ms/step\n",
            "Epoch 12/100\n",
            "5/5 - 0s - loss: 0.7151 - 14ms/epoch - 3ms/step\n",
            "Epoch 13/100\n",
            "5/5 - 0s - loss: 0.6813 - 21ms/epoch - 4ms/step\n",
            "Epoch 14/100\n",
            "5/5 - 0s - loss: 0.6489 - 15ms/epoch - 3ms/step\n",
            "Epoch 15/100\n",
            "5/5 - 0s - loss: 0.6135 - 14ms/epoch - 3ms/step\n",
            "Epoch 16/100\n",
            "5/5 - 0s - loss: 0.5852 - 19ms/epoch - 4ms/step\n",
            "Epoch 17/100\n",
            "5/5 - 0s - loss: 0.5613 - 13ms/epoch - 3ms/step\n",
            "Epoch 18/100\n",
            "5/5 - 0s - loss: 0.5356 - 18ms/epoch - 4ms/step\n",
            "Epoch 19/100\n",
            "5/5 - 0s - loss: 0.5140 - 16ms/epoch - 3ms/step\n",
            "Epoch 20/100\n",
            "5/5 - 0s - loss: 0.4935 - 14ms/epoch - 3ms/step\n",
            "Epoch 21/100\n",
            "5/5 - 0s - loss: 0.4757 - 15ms/epoch - 3ms/step\n",
            "Epoch 22/100\n",
            "5/5 - 0s - loss: 0.4594 - 13ms/epoch - 3ms/step\n",
            "Epoch 23/100\n",
            "5/5 - 0s - loss: 0.4430 - 12ms/epoch - 2ms/step\n",
            "Epoch 24/100\n",
            "5/5 - 0s - loss: 0.4290 - 14ms/epoch - 3ms/step\n",
            "Epoch 25/100\n",
            "5/5 - 0s - loss: 0.4165 - 16ms/epoch - 3ms/step\n",
            "Epoch 26/100\n",
            "5/5 - 0s - loss: 0.4031 - 13ms/epoch - 3ms/step\n",
            "Epoch 27/100\n",
            "5/5 - 0s - loss: 0.3916 - 15ms/epoch - 3ms/step\n",
            "Epoch 28/100\n",
            "5/5 - 0s - loss: 0.3805 - 14ms/epoch - 3ms/step\n",
            "Epoch 29/100\n",
            "5/5 - 0s - loss: 0.3706 - 15ms/epoch - 3ms/step\n",
            "Epoch 30/100\n",
            "5/5 - 0s - loss: 0.3602 - 15ms/epoch - 3ms/step\n",
            "Epoch 31/100\n",
            "5/5 - 0s - loss: 0.3521 - 22ms/epoch - 4ms/step\n",
            "Epoch 32/100\n",
            "5/5 - 0s - loss: 0.3447 - 11ms/epoch - 2ms/step\n",
            "Epoch 33/100\n",
            "5/5 - 0s - loss: 0.3328 - 13ms/epoch - 3ms/step\n",
            "Epoch 34/100\n",
            "5/5 - 0s - loss: 0.3232 - 12ms/epoch - 2ms/step\n",
            "Epoch 35/100\n",
            "5/5 - 0s - loss: 0.3169 - 15ms/epoch - 3ms/step\n",
            "Epoch 36/100\n",
            "5/5 - 0s - loss: 0.3072 - 12ms/epoch - 2ms/step\n",
            "Epoch 37/100\n",
            "5/5 - 0s - loss: 0.3001 - 12ms/epoch - 2ms/step\n",
            "Epoch 38/100\n",
            "5/5 - 0s - loss: 0.2911 - 13ms/epoch - 3ms/step\n",
            "Epoch 39/100\n",
            "5/5 - 0s - loss: 0.2839 - 13ms/epoch - 3ms/step\n",
            "Epoch 40/100\n",
            "5/5 - 0s - loss: 0.2752 - 14ms/epoch - 3ms/step\n",
            "Epoch 41/100\n",
            "5/5 - 0s - loss: 0.2683 - 14ms/epoch - 3ms/step\n",
            "Epoch 42/100\n",
            "5/5 - 0s - loss: 0.2610 - 15ms/epoch - 3ms/step\n",
            "Epoch 43/100\n",
            "5/5 - 0s - loss: 0.2546 - 14ms/epoch - 3ms/step\n",
            "Epoch 44/100\n",
            "5/5 - 0s - loss: 0.2472 - 16ms/epoch - 3ms/step\n",
            "Epoch 45/100\n",
            "5/5 - 0s - loss: 0.2415 - 18ms/epoch - 4ms/step\n",
            "Epoch 46/100\n",
            "5/5 - 0s - loss: 0.2352 - 18ms/epoch - 4ms/step\n",
            "Epoch 47/100\n",
            "5/5 - 0s - loss: 0.2300 - 15ms/epoch - 3ms/step\n",
            "Epoch 48/100\n",
            "5/5 - 0s - loss: 0.2211 - 18ms/epoch - 4ms/step\n",
            "Epoch 49/100\n",
            "5/5 - 0s - loss: 0.2129 - 18ms/epoch - 4ms/step\n",
            "Epoch 50/100\n",
            "5/5 - 0s - loss: 0.2090 - 18ms/epoch - 4ms/step\n",
            "Epoch 51/100\n",
            "5/5 - 0s - loss: 0.2016 - 33ms/epoch - 7ms/step\n",
            "Epoch 52/100\n",
            "5/5 - 0s - loss: 0.1937 - 29ms/epoch - 6ms/step\n",
            "Epoch 53/100\n",
            "5/5 - 0s - loss: 0.1870 - 30ms/epoch - 6ms/step\n",
            "Epoch 54/100\n",
            "5/5 - 0s - loss: 0.1780 - 22ms/epoch - 4ms/step\n",
            "Epoch 55/100\n",
            "5/5 - 0s - loss: 0.1766 - 24ms/epoch - 5ms/step\n",
            "Epoch 56/100\n",
            "5/5 - 0s - loss: 0.1701 - 29ms/epoch - 6ms/step\n",
            "Epoch 57/100\n",
            "5/5 - 0s - loss: 0.1660 - 28ms/epoch - 6ms/step\n",
            "Epoch 58/100\n",
            "5/5 - 0s - loss: 0.1619 - 24ms/epoch - 5ms/step\n",
            "Epoch 59/100\n",
            "5/5 - 0s - loss: 0.1556 - 18ms/epoch - 4ms/step\n",
            "Epoch 60/100\n",
            "5/5 - 0s - loss: 0.1562 - 19ms/epoch - 4ms/step\n",
            "Epoch 61/100\n",
            "5/5 - 0s - loss: 0.1456 - 17ms/epoch - 3ms/step\n",
            "Epoch 62/100\n",
            "5/5 - 0s - loss: 0.1410 - 18ms/epoch - 4ms/step\n",
            "Epoch 63/100\n",
            "5/5 - 0s - loss: 0.1290 - 28ms/epoch - 6ms/step\n",
            "Epoch 64/100\n",
            "5/5 - 0s - loss: 0.1205 - 22ms/epoch - 4ms/step\n",
            "Epoch 65/100\n",
            "5/5 - 0s - loss: 0.1232 - 35ms/epoch - 7ms/step\n",
            "Epoch 66/100\n",
            "5/5 - 0s - loss: 0.1181 - 22ms/epoch - 4ms/step\n",
            "Epoch 67/100\n",
            "5/5 - 0s - loss: 0.1149 - 25ms/epoch - 5ms/step\n",
            "Epoch 68/100\n",
            "5/5 - 0s - loss: 0.1131 - 28ms/epoch - 6ms/step\n",
            "Epoch 69/100\n",
            "5/5 - 0s - loss: 0.1097 - 19ms/epoch - 4ms/step\n",
            "Epoch 70/100\n",
            "5/5 - 0s - loss: 0.1069 - 18ms/epoch - 4ms/step\n",
            "Epoch 71/100\n",
            "5/5 - 0s - loss: 0.1058 - 46ms/epoch - 9ms/step\n",
            "Epoch 72/100\n",
            "5/5 - 0s - loss: 0.1032 - 21ms/epoch - 4ms/step\n",
            "Epoch 73/100\n",
            "5/5 - 0s - loss: 0.1060 - 27ms/epoch - 5ms/step\n",
            "Epoch 74/100\n",
            "5/5 - 0s - loss: 0.0985 - 17ms/epoch - 3ms/step\n",
            "Epoch 75/100\n",
            "5/5 - 0s - loss: 0.1018 - 20ms/epoch - 4ms/step\n",
            "Epoch 76/100\n",
            "5/5 - 0s - loss: 0.0947 - 20ms/epoch - 4ms/step\n",
            "Epoch 77/100\n",
            "5/5 - 0s - loss: 0.1036 - 18ms/epoch - 4ms/step\n",
            "Epoch 78/100\n",
            "5/5 - 0s - loss: 0.1079 - 20ms/epoch - 4ms/step\n",
            "Epoch 79/100\n",
            "5/5 - 0s - loss: 0.0983 - 21ms/epoch - 4ms/step\n",
            "Epoch 80/100\n",
            "5/5 - 0s - loss: 0.0941 - 30ms/epoch - 6ms/step\n",
            "Epoch 81/100\n",
            "5/5 - 0s - loss: 0.0908 - 27ms/epoch - 5ms/step\n",
            "Epoch 82/100\n",
            "5/5 - 0s - loss: 0.0954 - 34ms/epoch - 7ms/step\n",
            "Epoch 83/100\n",
            "5/5 - 0s - loss: 0.0914 - 38ms/epoch - 8ms/step\n",
            "Epoch 84/100\n",
            "5/5 - 0s - loss: 0.0905 - 21ms/epoch - 4ms/step\n",
            "Epoch 85/100\n",
            "5/5 - 0s - loss: 0.0928 - 20ms/epoch - 4ms/step\n",
            "Epoch 86/100\n",
            "5/5 - 0s - loss: 0.0872 - 19ms/epoch - 4ms/step\n",
            "Epoch 87/100\n",
            "5/5 - 0s - loss: 0.0935 - 22ms/epoch - 4ms/step\n",
            "Epoch 88/100\n",
            "5/5 - 0s - loss: 0.0887 - 18ms/epoch - 4ms/step\n",
            "Epoch 89/100\n",
            "5/5 - 0s - loss: 0.0907 - 28ms/epoch - 6ms/step\n",
            "Epoch 90/100\n",
            "5/5 - 0s - loss: 0.0895 - 18ms/epoch - 4ms/step\n",
            "Epoch 91/100\n",
            "5/5 - 0s - loss: 0.0816 - 29ms/epoch - 6ms/step\n",
            "Epoch 92/100\n",
            "5/5 - 0s - loss: 0.0907 - 21ms/epoch - 4ms/step\n",
            "Epoch 93/100\n",
            "5/5 - 0s - loss: 0.0818 - 21ms/epoch - 4ms/step\n",
            "Epoch 94/100\n",
            "5/5 - 0s - loss: 0.0821 - 23ms/epoch - 5ms/step\n",
            "Epoch 95/100\n",
            "5/5 - 0s - loss: 0.0832 - 21ms/epoch - 4ms/step\n",
            "Epoch 96/100\n",
            "5/5 - 0s - loss: 0.0851 - 21ms/epoch - 4ms/step\n",
            "Epoch 97/100\n",
            "5/5 - 0s - loss: 0.0800 - 21ms/epoch - 4ms/step\n",
            "Epoch 98/100\n",
            "5/5 - 0s - loss: 0.0805 - 18ms/epoch - 4ms/step\n",
            "Epoch 99/100\n",
            "5/5 - 0s - loss: 0.0798 - 21ms/epoch - 4ms/step\n",
            "Epoch 100/100\n",
            "5/5 - 0s - loss: 0.0792 - 20ms/epoch - 4ms/step\n"
          ]
        },
        {
          "output_type": "execute_result",
          "data": {
            "text/plain": [
              "<keras.callbacks.History at 0x7fed91b18b90>"
            ]
          },
          "metadata": {},
          "execution_count": 1
        }
      ]
    },
    {
      "cell_type": "code",
      "source": [
        "print(species)"
      ],
      "metadata": {
        "colab": {
          "base_uri": "https://localhost:8080/"
        },
        "id": "EX0cyiJFE1Ij",
        "outputId": "78a9c150-52e3-43be-9ee4-a727a672fac5"
      },
      "execution_count": null,
      "outputs": [
        {
          "output_type": "stream",
          "name": "stdout",
          "text": [
            "Index(['Iris-setosa', 'Iris-versicolor', 'Iris-virginica'], dtype='object')\n"
          ]
        }
      ]
    },
    {
      "cell_type": "code",
      "source": [
        "pred = model.predict(x)\n",
        "print(f\"Shape: {pred.shape}\")\n",
        "print(pred[0:10])"
      ],
      "metadata": {
        "colab": {
          "base_uri": "https://localhost:8080/"
        },
        "id": "KONCTSDeFW2_",
        "outputId": "39b0f79d-2772-437d-b736-c46ef16a2927"
      },
      "execution_count": null,
      "outputs": [
        {
          "output_type": "stream",
          "name": "stdout",
          "text": [
            "Shape: (150, 3)\n",
            "[[9.9817193e-01 1.8280980e-03 7.8141742e-09]\n",
            " [9.9506170e-01 4.9382546e-03 5.7986675e-08]\n",
            " [9.9694592e-01 3.0540687e-03 3.2799946e-08]\n",
            " [9.9347323e-01 6.5266807e-03 1.2464123e-07]\n",
            " [9.9834621e-01 1.6537571e-03 7.2986519e-09]\n",
            " [9.9717003e-01 2.8300178e-03 9.9238076e-09]\n",
            " [9.9614859e-01 3.8514065e-03 5.2441017e-08]\n",
            " [9.9708742e-01 2.9126452e-03 1.9082528e-08]\n",
            " [9.9215502e-01 7.8447377e-03 2.3504626e-07]\n",
            " [9.9586052e-01 4.1395593e-03 3.9370065e-08]]\n"
          ]
        }
      ]
    },
    {
      "cell_type": "code",
      "source": [
        "np.set_printoptions(suppress=True)"
      ],
      "metadata": {
        "id": "bdZ1BT_WFdk5"
      },
      "execution_count": null,
      "outputs": []
    },
    {
      "cell_type": "code",
      "source": [
        "print(y[0:10])"
      ],
      "metadata": {
        "colab": {
          "base_uri": "https://localhost:8080/"
        },
        "id": "LtjcNhupFgRP",
        "outputId": "d613798c-8d14-4afb-cc21-f573ac50d18b"
      },
      "execution_count": null,
      "outputs": [
        {
          "output_type": "stream",
          "name": "stdout",
          "text": [
            "[[1 0 0]\n",
            " [1 0 0]\n",
            " [1 0 0]\n",
            " [1 0 0]\n",
            " [1 0 0]\n",
            " [1 0 0]\n",
            " [1 0 0]\n",
            " [1 0 0]\n",
            " [1 0 0]\n",
            " [1 0 0]]\n"
          ]
        }
      ]
    },
    {
      "cell_type": "code",
      "source": [
        "predict_classes = np.argmax(pred,axis=1)\n",
        "expected_classes = np.argmax(y,axis=1)\n",
        "print(f\"Predictions: {predict_classes}\")\n",
        "print(f\"Expected: {expected_classes}\")"
      ],
      "metadata": {
        "colab": {
          "base_uri": "https://localhost:8080/"
        },
        "id": "bLYMBr3kFi4P",
        "outputId": "50f63e4b-c76c-40b1-9cc4-7a8ea6692c78"
      },
      "execution_count": null,
      "outputs": [
        {
          "output_type": "stream",
          "name": "stdout",
          "text": [
            "Predictions: [0 0 0 0 0 0 0 0 0 0 0 0 0 0 0 0 0 0 0 0 0 0 0 0 0 0 0 0 0 0 0 0 0 0 0 0 0\n",
            " 0 0 0 0 0 0 0 0 0 0 0 0 0 1 1 1 1 1 1 1 1 1 1 1 1 1 1 1 1 1 1 1 1 2 1 2 1\n",
            " 1 1 1 1 1 1 1 1 1 2 1 1 1 1 1 1 1 1 1 1 1 1 1 1 1 1 2 2 2 2 2 2 2 2 2 2 2\n",
            " 2 2 2 2 2 2 2 2 2 2 2 2 2 2 2 2 2 2 2 2 2 2 2 2 2 2 2 2 2 2 2 2 2 2 2 2 2\n",
            " 2 2]\n",
            "Expected: [0 0 0 0 0 0 0 0 0 0 0 0 0 0 0 0 0 0 0 0 0 0 0 0 0 0 0 0 0 0 0 0 0 0 0 0 0\n",
            " 0 0 0 0 0 0 0 0 0 0 0 0 0 1 1 1 1 1 1 1 1 1 1 1 1 1 1 1 1 1 1 1 1 1 1 1 1\n",
            " 1 1 1 1 1 1 1 1 1 1 1 1 1 1 1 1 1 1 1 1 1 1 1 1 1 1 2 2 2 2 2 2 2 2 2 2 2\n",
            " 2 2 2 2 2 2 2 2 2 2 2 2 2 2 2 2 2 2 2 2 2 2 2 2 2 2 2 2 2 2 2 2 2 2 2 2 2\n",
            " 2 2]\n"
          ]
        }
      ]
    },
    {
      "cell_type": "code",
      "source": [
        "print(species[predict_classes[1:10]])"
      ],
      "metadata": {
        "colab": {
          "base_uri": "https://localhost:8080/"
        },
        "id": "l3bLu_FhFmQM",
        "outputId": "397a4d45-e162-49ca-d4f8-52011df64bb9"
      },
      "execution_count": null,
      "outputs": [
        {
          "output_type": "stream",
          "name": "stdout",
          "text": [
            "Index(['Iris-setosa', 'Iris-setosa', 'Iris-setosa', 'Iris-setosa',\n",
            "       'Iris-setosa', 'Iris-setosa', 'Iris-setosa', 'Iris-setosa',\n",
            "       'Iris-setosa'],\n",
            "      dtype='object')\n"
          ]
        }
      ]
    },
    {
      "cell_type": "code",
      "source": [
        "from sklearn.metrics import accuracy_score\n",
        "\n",
        "correct = accuracy_score(expected_classes,predict_classes)\n",
        "print(f\"Accuracy: {correct}\")"
      ],
      "metadata": {
        "colab": {
          "base_uri": "https://localhost:8080/"
        },
        "id": "Li2EqUEIFqBH",
        "outputId": "62b4c18b-befa-4042-ae45-738e00a5134b"
      },
      "execution_count": null,
      "outputs": [
        {
          "output_type": "stream",
          "name": "stdout",
          "text": [
            "Accuracy: 0.98\n"
          ]
        }
      ]
    },
    {
      "cell_type": "code",
      "source": [
        "sample_flower = np.array( [[5.0,3.0,4.0,2.0]], dtype=float)\n",
        "pred = model.predict(sample_flower)\n",
        "print(pred)\n",
        "pred = np.argmax(pred)\n",
        "print(f\"Predict that {sample_flower} is: {species[pred]}\")"
      ],
      "metadata": {
        "colab": {
          "base_uri": "https://localhost:8080/"
        },
        "id": "ReXe-3LDFuDS",
        "outputId": "14bfc099-1c23-4936-cef9-2afdbc446a9e"
      },
      "execution_count": null,
      "outputs": [
        {
          "output_type": "stream",
          "name": "stdout",
          "text": [
            "[[0.00061115 0.2014582  0.79793066]]\n",
            "Predict that [[5. 3. 4. 2.]] is: Iris-virginica\n"
          ]
        }
      ]
    },
    {
      "cell_type": "code",
      "source": [
        "sample_flower = np.array( [[5.0,3.0,4.0,2.0],[5.2,3.5,1.5,0.8]],\\\n",
        "        dtype=float)\n",
        "pred = model.predict(sample_flower)\n",
        "print(pred)\n",
        "pred = np.argmax(pred,axis=1)\n",
        "print(f\"Predict that these two flowers {sample_flower} \")\n",
        "print(f\"are: {species[pred]}\")"
      ],
      "metadata": {
        "colab": {
          "base_uri": "https://localhost:8080/"
        },
        "id": "CilcbqcxFx6T",
        "outputId": "732668f8-31e6-474a-db0d-97e47f72e6ff"
      },
      "execution_count": null,
      "outputs": [
        {
          "output_type": "stream",
          "name": "stdout",
          "text": [
            "[[0.00061115 0.2014581  0.7979308 ]\n",
            " [0.9903662  0.00963367 0.00000013]]\n",
            "Predict that these two flowers [[5.  3.  4.  2. ]\n",
            " [5.2 3.5 1.5 0.8]] \n",
            "are: Index(['Iris-virginica', 'Iris-setosa'], dtype='object')\n"
          ]
        }
      ]
    },
    {
      "cell_type": "markdown",
      "source": [
        "#Simple TensorFlow Regression: MPG"
      ],
      "metadata": {
        "id": "C6STDzYqO5t9"
      }
    },
    {
      "cell_type": "code",
      "source": [
        "from tensorflow.keras.models import Sequential\n",
        "from tensorflow.keras.layers import Dense, Activation\n",
        "import pandas as pd\n",
        "import io\n",
        "import os\n",
        "import requests\n",
        "import numpy as np\n",
        "from sklearn import metrics\n",
        "\n",
        "df = pd.read_csv(\n",
        "    \"https://data.heatonresearch.com/data/t81-558/auto-mpg.csv\", \n",
        "    na_values=['NA', '?'])\n",
        "\n",
        "cars = df['name']\n",
        "\n",
        "# Handle missing value\n",
        "df['horsepower'] = df['horsepower'].fillna(df['horsepower'].median())\n",
        "\n",
        "# Pandas to Numpy\n",
        "x = df[['cylinders', 'displacement', 'horsepower', 'weight',\n",
        "       'acceleration', 'year', 'origin']].values\n",
        "y = df['mpg'].values # regression\n",
        "\n",
        "# Build the neural network\n",
        "model = Sequential()\n",
        "model.add(Dense(25, input_dim=x.shape[1], activation='relu')) # Hidden 1\n",
        "model.add(Dense(10, activation='relu')) # Hidden 2\n",
        "model.add(Dense(1)) # Output\n",
        "model.compile(loss='mean_squared_error', optimizer='adam')\n",
        "model.fit(x,y,verbose=2,epochs=100)"
      ],
      "metadata": {
        "colab": {
          "base_uri": "https://localhost:8080/"
        },
        "id": "mh40vOOhF0W2",
        "outputId": "30ecbbf8-6b95-4eb2-a438-fa96e2d27cda"
      },
      "execution_count": null,
      "outputs": [
        {
          "output_type": "stream",
          "name": "stdout",
          "text": [
            "Epoch 1/100\n",
            "13/13 - 1s - loss: 1213385.5000 - 920ms/epoch - 71ms/step\n",
            "Epoch 2/100\n",
            "13/13 - 0s - loss: 598610.4375 - 40ms/epoch - 3ms/step\n",
            "Epoch 3/100\n",
            "13/13 - 0s - loss: 247398.2344 - 38ms/epoch - 3ms/step\n",
            "Epoch 4/100\n",
            "13/13 - 0s - loss: 100504.0938 - 37ms/epoch - 3ms/step\n",
            "Epoch 5/100\n",
            "13/13 - 0s - loss: 35507.2969 - 44ms/epoch - 3ms/step\n",
            "Epoch 6/100\n",
            "13/13 - 0s - loss: 9610.8008 - 38ms/epoch - 3ms/step\n",
            "Epoch 7/100\n",
            "13/13 - 0s - loss: 1480.1786 - 31ms/epoch - 2ms/step\n",
            "Epoch 8/100\n",
            "13/13 - 0s - loss: 319.5854 - 38ms/epoch - 3ms/step\n",
            "Epoch 9/100\n",
            "13/13 - 0s - loss: 105.6841 - 53ms/epoch - 4ms/step\n",
            "Epoch 10/100\n",
            "13/13 - 0s - loss: 60.2964 - 34ms/epoch - 3ms/step\n",
            "Epoch 11/100\n",
            "13/13 - 0s - loss: 45.1970 - 45ms/epoch - 3ms/step\n",
            "Epoch 12/100\n",
            "13/13 - 0s - loss: 40.0576 - 39ms/epoch - 3ms/step\n",
            "Epoch 13/100\n",
            "13/13 - 0s - loss: 38.5619 - 38ms/epoch - 3ms/step\n",
            "Epoch 14/100\n",
            "13/13 - 0s - loss: 38.0134 - 51ms/epoch - 4ms/step\n",
            "Epoch 15/100\n",
            "13/13 - 0s - loss: 37.0669 - 47ms/epoch - 4ms/step\n",
            "Epoch 16/100\n",
            "13/13 - 0s - loss: 36.2790 - 34ms/epoch - 3ms/step\n",
            "Epoch 17/100\n",
            "13/13 - 0s - loss: 35.5831 - 36ms/epoch - 3ms/step\n",
            "Epoch 18/100\n",
            "13/13 - 0s - loss: 34.8593 - 34ms/epoch - 3ms/step\n",
            "Epoch 19/100\n",
            "13/13 - 0s - loss: 34.0905 - 51ms/epoch - 4ms/step\n",
            "Epoch 20/100\n",
            "13/13 - 0s - loss: 33.4762 - 34ms/epoch - 3ms/step\n",
            "Epoch 21/100\n",
            "13/13 - 0s - loss: 32.6411 - 51ms/epoch - 4ms/step\n",
            "Epoch 22/100\n",
            "13/13 - 0s - loss: 31.8786 - 35ms/epoch - 3ms/step\n",
            "Epoch 23/100\n",
            "13/13 - 0s - loss: 31.4473 - 39ms/epoch - 3ms/step\n",
            "Epoch 24/100\n",
            "13/13 - 0s - loss: 30.4587 - 35ms/epoch - 3ms/step\n",
            "Epoch 25/100\n",
            "13/13 - 0s - loss: 29.7920 - 40ms/epoch - 3ms/step\n",
            "Epoch 26/100\n",
            "13/13 - 0s - loss: 29.1743 - 34ms/epoch - 3ms/step\n",
            "Epoch 27/100\n",
            "13/13 - 0s - loss: 28.2628 - 47ms/epoch - 4ms/step\n",
            "Epoch 28/100\n",
            "13/13 - 0s - loss: 27.8080 - 46ms/epoch - 4ms/step\n",
            "Epoch 29/100\n",
            "13/13 - 0s - loss: 27.4830 - 34ms/epoch - 3ms/step\n",
            "Epoch 30/100\n",
            "13/13 - 0s - loss: 27.1799 - 36ms/epoch - 3ms/step\n",
            "Epoch 31/100\n",
            "13/13 - 0s - loss: 25.9331 - 33ms/epoch - 3ms/step\n",
            "Epoch 32/100\n",
            "13/13 - 0s - loss: 25.4278 - 33ms/epoch - 3ms/step\n",
            "Epoch 33/100\n",
            "13/13 - 0s - loss: 25.3343 - 36ms/epoch - 3ms/step\n",
            "Epoch 34/100\n",
            "13/13 - 0s - loss: 24.3608 - 34ms/epoch - 3ms/step\n",
            "Epoch 35/100\n",
            "13/13 - 0s - loss: 23.8839 - 42ms/epoch - 3ms/step\n",
            "Epoch 36/100\n",
            "13/13 - 0s - loss: 23.9525 - 50ms/epoch - 4ms/step\n",
            "Epoch 37/100\n",
            "13/13 - 0s - loss: 23.1454 - 38ms/epoch - 3ms/step\n",
            "Epoch 38/100\n",
            "13/13 - 0s - loss: 22.5265 - 39ms/epoch - 3ms/step\n",
            "Epoch 39/100\n",
            "13/13 - 0s - loss: 22.1275 - 35ms/epoch - 3ms/step\n",
            "Epoch 40/100\n",
            "13/13 - 0s - loss: 21.7666 - 36ms/epoch - 3ms/step\n",
            "Epoch 41/100\n",
            "13/13 - 0s - loss: 21.2539 - 32ms/epoch - 2ms/step\n",
            "Epoch 42/100\n",
            "13/13 - 0s - loss: 21.1489 - 38ms/epoch - 3ms/step\n",
            "Epoch 43/100\n",
            "13/13 - 0s - loss: 21.1755 - 35ms/epoch - 3ms/step\n",
            "Epoch 44/100\n",
            "13/13 - 0s - loss: 20.7264 - 44ms/epoch - 3ms/step\n",
            "Epoch 45/100\n",
            "13/13 - 0s - loss: 20.2432 - 46ms/epoch - 4ms/step\n",
            "Epoch 46/100\n",
            "13/13 - 0s - loss: 20.0159 - 36ms/epoch - 3ms/step\n",
            "Epoch 47/100\n",
            "13/13 - 0s - loss: 19.3873 - 39ms/epoch - 3ms/step\n",
            "Epoch 48/100\n",
            "13/13 - 0s - loss: 19.1765 - 34ms/epoch - 3ms/step\n",
            "Epoch 49/100\n",
            "13/13 - 0s - loss: 18.9812 - 36ms/epoch - 3ms/step\n",
            "Epoch 50/100\n",
            "13/13 - 0s - loss: 18.7001 - 36ms/epoch - 3ms/step\n",
            "Epoch 51/100\n",
            "13/13 - 0s - loss: 18.5645 - 37ms/epoch - 3ms/step\n",
            "Epoch 52/100\n",
            "13/13 - 0s - loss: 18.7900 - 37ms/epoch - 3ms/step\n",
            "Epoch 53/100\n",
            "13/13 - 0s - loss: 18.7214 - 39ms/epoch - 3ms/step\n",
            "Epoch 54/100\n",
            "13/13 - 0s - loss: 19.1307 - 43ms/epoch - 3ms/step\n",
            "Epoch 55/100\n",
            "13/13 - 0s - loss: 18.7029 - 53ms/epoch - 4ms/step\n",
            "Epoch 56/100\n",
            "13/13 - 0s - loss: 18.0332 - 39ms/epoch - 3ms/step\n",
            "Epoch 57/100\n",
            "13/13 - 0s - loss: 17.7954 - 43ms/epoch - 3ms/step\n",
            "Epoch 58/100\n",
            "13/13 - 0s - loss: 17.8780 - 40ms/epoch - 3ms/step\n",
            "Epoch 59/100\n",
            "13/13 - 0s - loss: 17.5877 - 36ms/epoch - 3ms/step\n",
            "Epoch 60/100\n",
            "13/13 - 0s - loss: 17.4646 - 31ms/epoch - 2ms/step\n",
            "Epoch 61/100\n",
            "13/13 - 0s - loss: 17.5337 - 33ms/epoch - 3ms/step\n",
            "Epoch 62/100\n",
            "13/13 - 0s - loss: 17.5503 - 40ms/epoch - 3ms/step\n",
            "Epoch 63/100\n",
            "13/13 - 0s - loss: 17.5633 - 35ms/epoch - 3ms/step\n",
            "Epoch 64/100\n",
            "13/13 - 0s - loss: 18.5117 - 34ms/epoch - 3ms/step\n",
            "Epoch 65/100\n",
            "13/13 - 0s - loss: 16.9647 - 35ms/epoch - 3ms/step\n",
            "Epoch 66/100\n",
            "13/13 - 0s - loss: 17.5385 - 35ms/epoch - 3ms/step\n",
            "Epoch 67/100\n",
            "13/13 - 0s - loss: 17.1320 - 48ms/epoch - 4ms/step\n",
            "Epoch 68/100\n",
            "13/13 - 0s - loss: 17.3743 - 54ms/epoch - 4ms/step\n",
            "Epoch 69/100\n",
            "13/13 - 0s - loss: 16.6963 - 42ms/epoch - 3ms/step\n",
            "Epoch 70/100\n",
            "13/13 - 0s - loss: 16.6720 - 38ms/epoch - 3ms/step\n",
            "Epoch 71/100\n",
            "13/13 - 0s - loss: 17.0287 - 44ms/epoch - 3ms/step\n",
            "Epoch 72/100\n",
            "13/13 - 0s - loss: 16.6829 - 29ms/epoch - 2ms/step\n",
            "Epoch 73/100\n",
            "13/13 - 0s - loss: 16.8498 - 32ms/epoch - 2ms/step\n",
            "Epoch 74/100\n",
            "13/13 - 0s - loss: 16.6832 - 34ms/epoch - 3ms/step\n",
            "Epoch 75/100\n",
            "13/13 - 0s - loss: 16.3613 - 37ms/epoch - 3ms/step\n",
            "Epoch 76/100\n",
            "13/13 - 0s - loss: 16.6516 - 30ms/epoch - 2ms/step\n",
            "Epoch 77/100\n",
            "13/13 - 0s - loss: 16.6699 - 42ms/epoch - 3ms/step\n",
            "Epoch 78/100\n",
            "13/13 - 0s - loss: 16.7392 - 41ms/epoch - 3ms/step\n",
            "Epoch 79/100\n",
            "13/13 - 0s - loss: 16.8036 - 39ms/epoch - 3ms/step\n",
            "Epoch 80/100\n",
            "13/13 - 0s - loss: 17.3423 - 34ms/epoch - 3ms/step\n",
            "Epoch 81/100\n",
            "13/13 - 0s - loss: 16.9939 - 32ms/epoch - 2ms/step\n",
            "Epoch 82/100\n",
            "13/13 - 0s - loss: 16.3991 - 38ms/epoch - 3ms/step\n",
            "Epoch 83/100\n",
            "13/13 - 0s - loss: 16.7531 - 33ms/epoch - 3ms/step\n",
            "Epoch 84/100\n",
            "13/13 - 0s - loss: 16.2246 - 31ms/epoch - 2ms/step\n",
            "Epoch 85/100\n",
            "13/13 - 0s - loss: 17.1655 - 30ms/epoch - 2ms/step\n",
            "Epoch 86/100\n",
            "13/13 - 0s - loss: 16.3020 - 49ms/epoch - 4ms/step\n",
            "Epoch 87/100\n",
            "13/13 - 0s - loss: 16.3878 - 30ms/epoch - 2ms/step\n",
            "Epoch 88/100\n",
            "13/13 - 0s - loss: 16.3827 - 35ms/epoch - 3ms/step\n",
            "Epoch 89/100\n",
            "13/13 - 0s - loss: 16.1190 - 36ms/epoch - 3ms/step\n",
            "Epoch 90/100\n",
            "13/13 - 0s - loss: 16.5165 - 39ms/epoch - 3ms/step\n",
            "Epoch 91/100\n",
            "13/13 - 0s - loss: 16.2801 - 36ms/epoch - 3ms/step\n",
            "Epoch 92/100\n",
            "13/13 - 0s - loss: 16.1947 - 40ms/epoch - 3ms/step\n",
            "Epoch 93/100\n",
            "13/13 - 0s - loss: 16.3001 - 34ms/epoch - 3ms/step\n",
            "Epoch 94/100\n",
            "13/13 - 0s - loss: 17.2830 - 34ms/epoch - 3ms/step\n",
            "Epoch 95/100\n",
            "13/13 - 0s - loss: 16.8060 - 34ms/epoch - 3ms/step\n",
            "Epoch 96/100\n",
            "13/13 - 0s - loss: 16.1167 - 33ms/epoch - 3ms/step\n",
            "Epoch 97/100\n",
            "13/13 - 0s - loss: 16.3769 - 34ms/epoch - 3ms/step\n",
            "Epoch 98/100\n",
            "13/13 - 0s - loss: 16.2370 - 34ms/epoch - 3ms/step\n",
            "Epoch 99/100\n",
            "13/13 - 0s - loss: 15.8756 - 52ms/epoch - 4ms/step\n",
            "Epoch 100/100\n",
            "13/13 - 0s - loss: 16.6512 - 40ms/epoch - 3ms/step\n"
          ]
        },
        {
          "output_type": "execute_result",
          "data": {
            "text/plain": [
              "<keras.callbacks.History at 0x7fed91a55ed0>"
            ]
          },
          "metadata": {},
          "execution_count": 11
        }
      ]
    },
    {
      "cell_type": "code",
      "source": [
        "pred = model.predict(x)\n",
        "print(f\"Shape: {pred.shape}\")\n",
        "print(pred[0:10])"
      ],
      "metadata": {
        "colab": {
          "base_uri": "https://localhost:8080/"
        },
        "id": "YTA-0Zm2O-Zo",
        "outputId": "9dec1f23-088f-4273-fc92-4ebca0311c6e"
      },
      "execution_count": null,
      "outputs": [
        {
          "output_type": "stream",
          "name": "stdout",
          "text": [
            "Shape: (398, 1)\n",
            "[[14.049168]\n",
            " [17.270603]\n",
            " [17.872107]\n",
            " [17.7543  ]\n",
            " [16.108747]\n",
            " [15.058154]\n",
            " [18.340857]\n",
            " [17.981812]\n",
            " [18.209995]\n",
            " [19.42039 ]]\n"
          ]
        }
      ]
    },
    {
      "cell_type": "code",
      "source": [
        "# Measure RMSE error.  RMSE is common for regression.\n",
        "score = np.sqrt(metrics.mean_squared_error(pred,y))\n",
        "print(f\"Final score (RMSE): {score}\")"
      ],
      "metadata": {
        "colab": {
          "base_uri": "https://localhost:8080/"
        },
        "id": "NdmXp2zBP8NU",
        "outputId": "20166c57-2c51-4311-f1bc-428f9ecb61cf"
      },
      "execution_count": null,
      "outputs": [
        {
          "output_type": "stream",
          "name": "stdout",
          "text": [
            "Final score (RMSE): 3.9701933323825274\n"
          ]
        }
      ]
    },
    {
      "cell_type": "code",
      "source": [
        "# Sample predictions\n",
        "for i in range(10):\n",
        "    print(f\"{i+1}. Car name: {cars[i]}, MPG: {y[i]}, \" f\"predicted MPG: {pred[i]}\")"
      ],
      "metadata": {
        "colab": {
          "base_uri": "https://localhost:8080/"
        },
        "id": "EeivucnhP-Px",
        "outputId": "73747291-8c3c-4ae7-952c-53af541ea7fb"
      },
      "execution_count": null,
      "outputs": [
        {
          "output_type": "stream",
          "name": "stdout",
          "text": [
            "1. Car name: chevrolet chevelle malibu, MPG: 18.0, predicted MPG: [14.049168]\n",
            "2. Car name: buick skylark 320, MPG: 15.0, predicted MPG: [17.270603]\n",
            "3. Car name: plymouth satellite, MPG: 18.0, predicted MPG: [17.872107]\n",
            "4. Car name: amc rebel sst, MPG: 16.0, predicted MPG: [17.7543]\n",
            "5. Car name: ford torino, MPG: 17.0, predicted MPG: [16.108747]\n",
            "6. Car name: ford galaxie 500, MPG: 15.0, predicted MPG: [15.058154]\n",
            "7. Car name: chevrolet impala, MPG: 14.0, predicted MPG: [18.340857]\n",
            "8. Car name: plymouth fury iii, MPG: 14.0, predicted MPG: [17.981812]\n",
            "9. Car name: pontiac catalina, MPG: 14.0, predicted MPG: [18.209995]\n",
            "10. Car name: amc ambassador dpl, MPG: 15.0, predicted MPG: [19.42039]\n"
          ]
        }
      ]
    },
    {
      "cell_type": "markdown",
      "source": [
        "#Saving and Loading a Keras Neural Network\n",
        "##format:YMAL,JSON,HDF5"
      ],
      "metadata": {
        "id": "6r0gmapfT0ww"
      }
    },
    {
      "cell_type": "code",
      "source": [
        "save_path = \".\""
      ],
      "metadata": {
        "id": "mw-HClqMQAGH"
      },
      "execution_count": null,
      "outputs": []
    },
    {
      "cell_type": "code",
      "source": [
        "# Save neural network structure to JSON (no weights)\n",
        "model_json = model.to_json()\n",
        "with open(os.path.join(save_path,\"network.json\"), \"w\") as json_file:\n",
        "    json_file.write(model_json)\n",
        "\n"
      ],
      "metadata": {
        "id": "1PXndPtDUgcX"
      },
      "execution_count": null,
      "outputs": []
    },
    {
      "cell_type": "code",
      "source": [
        "# Stores the complete neural network (with weights)\n",
        "model.save(os.path.join(save_path,\"network.h5\"))"
      ],
      "metadata": {
        "id": "awHEiYVBUmX7"
      },
      "execution_count": null,
      "outputs": []
    },
    {
      "cell_type": "code",
      "source": [
        "from tensorflow.keras.models import load_model\n",
        "model2 = load_model(os.path.join(save_path,\"network.h5\"))"
      ],
      "metadata": {
        "id": "S2su5Pu_UvTb"
      },
      "execution_count": null,
      "outputs": []
    },
    {
      "cell_type": "code",
      "source": [
        ""
      ],
      "metadata": {
        "id": "3WfQ3MaHU6Ya"
      },
      "execution_count": null,
      "outputs": []
    }
  ]
}